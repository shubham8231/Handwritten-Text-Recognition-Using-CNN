{
 "cells": [
  {
   "cell_type": "code",
   "execution_count": 3,
   "metadata": {},
   "outputs": [],
   "source": [
    "import numpy as np\n",
    "from sklearn import metrics\n",
    "import matplotlib.pyplot as plt\n",
    "import pandas as pd\n",
    "from sklearn.model_selection import train_test_split"
   ]
  },
  {
   "cell_type": "code",
   "execution_count": 4,
   "metadata": {},
   "outputs": [],
   "source": [
    "data = pd.read_csv(r\"G:\\SS\\Handwritten-Text-Recognition-using-Machine-Learning\\Handwritten Text Recognition\\Handwritten Character Recognition\\A_Z Handwritten Data.csv\").astype('float32')"
   ]
  },
  {
   "cell_type": "code",
   "execution_count": 6,
   "metadata": {},
   "outputs": [],
   "source": [
    "X = data.drop('0',axis = 1)\n",
    "y = data['0']"
   ]
  },
  {
   "cell_type": "code",
   "execution_count": 10,
   "metadata": {},
   "outputs": [],
   "source": [
    "train_x, test_x, train_y, test_y = train_test_split(X, y, test_size = 0.2)\n",
    "train_x = np.reshape(train_x.values, (train_x.shape[0], 28,28))\n",
    "test_x = np.reshape(test_x.values, (test_x.shape[0], 28,28))\n",
    "word_dict = {0:'A',1:'B',2:'C',3:'D',4:'E',5:'F',6:'G',7:'H',8:'I',9:'J',10:'K',11:'L',12:'M',13:'N',14:'O',15:'P',16:'Q',17:'R',18:'S',19:'T',20:'U',21:'V',22:'W',23:'X', 24:'Y',25:'Z'}"
   ]
  },
  {
   "cell_type": "code",
   "execution_count": 8,
   "metadata": {},
   "outputs": [],
   "source": [
    "from keras.models import load_model\n",
    "predModel = load_model(\"model_hand.h5\")"
   ]
  },
  {
   "cell_type": "code",
   "execution_count": 12,
   "metadata": {},
   "outputs": [
    {
     "name": "stdout",
     "output_type": "stream",
     "text": [
      "2328/2328 [==============================] - 13s 5ms/step\n"
     ]
    }
   ],
   "source": [
    "pred = predModel.predict(test_x)"
   ]
  },
  {
   "cell_type": "code",
   "execution_count": 43,
   "metadata": {},
   "outputs": [
    {
     "data": {
      "text/plain": [
       "(74490,)"
      ]
     },
     "execution_count": 43,
     "metadata": {},
     "output_type": "execute_result"
    }
   ],
   "source": [
    "np.shape(test_y)"
   ]
  },
  {
   "cell_type": "code",
   "execution_count": 45,
   "metadata": {},
   "outputs": [],
   "source": [
    "test_y = np.array(test_y)"
   ]
  },
  {
   "cell_type": "code",
   "execution_count": 46,
   "metadata": {},
   "outputs": [
    {
     "data": {
      "text/plain": [
       "array([11., 14.,  6., ..., 18., 14.,  2.], dtype=float32)"
      ]
     },
     "execution_count": 46,
     "metadata": {},
     "output_type": "execute_result"
    }
   ],
   "source": [
    "test_y"
   ]
  },
  {
   "cell_type": "code",
   "execution_count": 47,
   "metadata": {},
   "outputs": [
    {
     "data": {
      "text/plain": [
       "array([11, 14,  6, ..., 18, 14,  2], dtype=int64)"
      ]
     },
     "execution_count": 47,
     "metadata": {},
     "output_type": "execute_result"
    }
   ],
   "source": [
    "predResult = []\n",
    "for i in range(len(pred)):\n",
    "    predResult.append(np.argmax(pred[i]))\n",
    "np.array(predResult)"
   ]
  },
  {
   "cell_type": "code",
   "execution_count": 58,
   "metadata": {},
   "outputs": [],
   "source": [
    "realResult = []\n",
    "\n",
    "for i in range(len(test_y)):\n",
    "    realResult.append(test_y[i])\n",
    "realResult = np.int64(realResult)"
   ]
  },
  {
   "cell_type": "code",
   "execution_count": 59,
   "metadata": {},
   "outputs": [],
   "source": [
    "from sklearn.metrics import confusion_matrix\n",
    "\n",
    "\n",
    "confusion_matrix = metrics.confusion_matrix(realResult, predResult)"
   ]
  },
  {
   "cell_type": "code",
   "execution_count": 60,
   "metadata": {},
   "outputs": [
    {
     "name": "stdout",
     "output_type": "stream",
     "text": [
      "[[ 2791     0     0     1     0     1     0     9     0     0     0     1\n",
      "      0     1     0     2     0     3     0     0     0     0     0     0\n",
      "      0     0]\n",
      " [    1  1703     1     2     1     0     3     0     0     0     0     0\n",
      "      0     0     9     2     0     8     6     0     0     0     0     0\n",
      "      0     2]\n",
      " [    1     0  4600     0    12     0     0     1     0     2     0     8\n",
      "      0     2     1     3     0     1     0     3     8     0     0     0\n",
      "      0     0]\n",
      " [    3    40     0  1801     1     0     0     0     0    14     0     0\n",
      "      0     2   146    38     1     0     9     0     3     0     0     0\n",
      "      1     0]\n",
      " [    1     2    24     0  2224    13     2     1     0     1     0     1\n",
      "      0     0     0     2     0     1     1     0     0     0     0     0\n",
      "      0     4]\n",
      " [    0     0     0     0     3   241     0     0     0     0     0     0\n",
      "      0     0     0     0     0     0     0     0     0     0     0     0\n",
      "      0     0]\n",
      " [    2     5    16     0     6     0  1067     0     0     1     1     1\n",
      "      0     1     3     0     2     0     7     0     0     0     0     0\n",
      "      2     0]\n",
      " [   16     0     0     0     1     0     0  1403     0     0     1     1\n",
      "      3    14     1     3     0     0     0     0     1     0     0     1\n",
      "      4     0]\n",
      " [    0     0     0     0     0     0     0     0   219     2     0     0\n",
      "      0     0     0     0     0     0     0     8     0     0     0     0\n",
      "      0     2]\n",
      " [    0     1     0     0     0     0     0     2     0  1696     0     0\n",
      "      0     1     3     0     0     0    15    20    14     0     1     0\n",
      "     25     0]\n",
      " [    2     1     4     0    17     1     0     2     0     0  1075     3\n",
      "      1     1     0     0     0     6     0     1     2     2     0     5\n",
      "      3     1]\n",
      " [    0     0    58     0    15     0     0     1     0     3     4  2208\n",
      "      0     1     0     2     0     3     0     2     4     0     0     5\n",
      "      5     4]\n",
      " [   19     0     0     1     0     0     0    29     0     0     0     0\n",
      "   2427    10     0     2     0     0     0     4     2     0     2     0\n",
      "      0     0]\n",
      " [    4     0     0     0     0     0     0    10     0     1     1     0\n",
      "     11  3777     1     3     0     0     0     0     4     2     2     0\n",
      "      0     0]\n",
      " [    3     4    90    24     0     0     3     0     0     2     0     0\n",
      "      0     1 11455    18     3     0     0     1    17     0     0     0\n",
      "      1     0]\n",
      " [    1     5     0     5     0     3     0     0     0     0     0     0\n",
      "      0     1     1  3809     0     2     0     7     0     0     0     0\n",
      "      1     0]\n",
      " [    8     1     8     1     0     0    15     0     0     0     1     0\n",
      "      0     0    35    19  1096    11     3     0     2     0     0     0\n",
      "      0     1]\n",
      " [   23     6     6     0     3     0     0     0     0     0     6     2\n",
      "      0     0     0    19     0  2346     0     0     0     0     0     0\n",
      "      0     5]\n",
      " [    0     5     6     0     5     0     8     2     0    47     1     2\n",
      "      0     0     4     5     0     1  9482     2     2     0     1     0\n",
      "     11     0]\n",
      " [    9     0     1     0     0     5     0     5     0     5     2     0\n",
      "      1     1     1     3     0     0     0  4425     0     0     0     0\n",
      "      6     0]\n",
      " [    0     0     2     1     0     0     0     1     0     0     1     4\n",
      "      0    12    12     0     0     0     0     1  5673    10     5     0\n",
      "      5     3]\n",
      " [    0     0     0     0     0     0     0     0     0     0     0     0\n",
      "      0     2     0     0     0     0     0     0     0   806     0     0\n",
      "     12     0]\n",
      " [    0     0     0     1     0     0     0     1     0     2     0     0\n",
      "      0    59     0     0     2     0     0     1    25     3  2082     0\n",
      "      0     0]\n",
      " [    3     0     0     0     0     0     0     3     0     0    13     5\n",
      "      0     4     0     0     0     3     0     3     0     1     0  1181\n",
      "     20     6]\n",
      " [    0     0     0     0     1     2     0     2     0     3     1     0\n",
      "      0     1     0     5     0     0     0    18     4     3     0     0\n",
      "   2060     0]\n",
      " [    1     0     2     0     0     0     0     0     0     2     0     5\n",
      "      0     0     0     1     0     3     0     2     0     0     0     0\n",
      "      0  1189]]\n"
     ]
    }
   ],
   "source": [
    "print(confusion_matrix)"
   ]
  },
  {
   "cell_type": "code",
   "execution_count": 61,
   "metadata": {},
   "outputs": [
    {
     "data": {
      "text/plain": [
       "<sklearn.metrics._plot.confusion_matrix.ConfusionMatrixDisplay at 0x225095f79a0>"
      ]
     },
     "execution_count": 61,
     "metadata": {},
     "output_type": "execute_result"
    },
    {
     "data": {
      "image/png": "[encoded data removed]",
      "text/plain": [
       "<Figure size 432x288 with 2 Axes>"
      ]
     },
     "metadata": {
      "needs_background": "light"
     },
     "output_type": "display_data"
    }
   ],
   "source": [
    "from sklearn.metrics import ConfusionMatrixDisplay\n",
    "\n",
    "disp = ConfusionMatrixDisplay(confusion_matrix=confusion_matrix)\n",
    "disp.plot()"
   ]
  },
  {
   "cell_type": "code",
   "execution_count": 65,
   "metadata": {},
   "outputs": [
    {
     "data": {
      "text/plain": [
       "0.977795677272117"
      ]
     },
     "execution_count": 65,
     "metadata": {},
     "output_type": "execute_result"
    }
   ],
   "source": [
    "from sklearn import metrics\n",
    "metrics.f1_score(y_true=realResult ,y_pred=predResult, average='micro')"
   ]
  },
  {
   "cell_type": "code",
   "execution_count": null,
   "metadata": {},
   "outputs": [],
   "source": []
  }
 ],
 "metadata": {
  "kernelspec": {
   "display_name": "Python 3.10.4 64-bit",
   "language": "python",
   "name": "python3"
  },
  "language_info": {
   "codemirror_mode": {
    "name": "ipython",
    "version": 3
   },
   "file_extension": ".py",
   "mimetype": "text/x-python",
   "name": "python",
   "nbconvert_exporter": "python",
   "pygments_lexer": "ipython3",
   "version": "3.10.4"
  },
  "orig_nbformat": 4,
  "vscode": {
   "interpreter": {
    "hash": "36284047d25b023ef15ebc115198ea930ea38366ca853fc9d046cba36c9288f1"
   }
  }
 },
 "nbformat": 4,
 "nbformat_minor": 2
}
