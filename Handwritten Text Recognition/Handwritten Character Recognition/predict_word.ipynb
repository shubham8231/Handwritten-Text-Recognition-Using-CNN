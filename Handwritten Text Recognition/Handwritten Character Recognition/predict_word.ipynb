{
 "cells": [
  {
   "cell_type": "code",
   "execution_count": 12,
   "metadata": {},
   "outputs": [
    {
     "ename": "IndexError",
     "evalue": "list index out of range",
     "output_type": "error",
     "traceback": [
      "\u001b[1;31m---------------------------------------------------------------------------\u001b[0m",
      "\u001b[1;31mIndexError\u001b[0m                                Traceback (most recent call last)",
      "\u001b[1;32mg:\\SS\\Handwritten-Text-Recognition-using-Machine-Learning\\Handwritten Text Recognition\\Handwritten Character Recognition\\predict_word.ipynb Cell 1\u001b[0m in \u001b[0;36m<cell line: 14>\u001b[1;34m()\u001b[0m\n\u001b[0;32m     <a href='vscode-notebook-cell:/g%3A/SS/Handwritten-Text-Recognition-using-Machine-Learning/Handwritten%20Text%20Recognition/Handwritten%20Character%20Recognition/predict_word.ipynb#ch0000000?line=11'>12</a>\u001b[0m \u001b[39mimport\u001b[39;00m \u001b[39mtensorflow\u001b[39;00m \u001b[39mas\u001b[39;00m \u001b[39mtf\u001b[39;00m\n\u001b[0;32m     <a href='vscode-notebook-cell:/g%3A/SS/Handwritten-Text-Recognition-using-Machine-Learning/Handwritten%20Text%20Recognition/Handwritten%20Character%20Recognition/predict_word.ipynb#ch0000000?line=12'>13</a>\u001b[0m physical_devices \u001b[39m=\u001b[39m tf\u001b[39m.\u001b[39mconfig\u001b[39m.\u001b[39mexperimental\u001b[39m.\u001b[39mlist_physical_devices(\u001b[39m'\u001b[39m\u001b[39mGPU\u001b[39m\u001b[39m'\u001b[39m)\n\u001b[1;32m---> <a href='vscode-notebook-cell:/g%3A/SS/Handwritten-Text-Recognition-using-Machine-Learning/Handwritten%20Text%20Recognition/Handwritten%20Character%20Recognition/predict_word.ipynb#ch0000000?line=13'>14</a>\u001b[0m tf\u001b[39m.\u001b[39mconfig\u001b[39m.\u001b[39mexperimental\u001b[39m.\u001b[39mset_memory_growth(physical_devices[\u001b[39m0\u001b[39;49m], \u001b[39mTrue\u001b[39;00m)\n",
      "\u001b[1;31mIndexError\u001b[0m: list index out of range"
     ]
    }
   ],
   "source": [
    "from keras.datasets import mnist\n",
    "import numpy as np\n",
    "import matplotlib.pyplot as plt\n",
    "%matplotlib inline\n",
    "from keras.utils import np_utils\n",
    "from keras.models import Sequential\n",
    "from keras.layers import Dense, Dropout, Flatten, Conv2D, MaxPooling2D\n",
    "from keras.models import load_model\n",
    "import numpy as np\n",
    "from emnist import extract_training_samples\n",
    "from emnist import extract_test_samples\n",
    "import tensorflow as tf\n",
    "physical_devices = tf.config.experimental.list_physical_devices('GPU')\n",
    "tf.config.experimental.set_memory_growth(physical_devices[0], True)\n"
   ]
  },
  {
   "cell_type": "code",
   "execution_count": null,
   "metadata": {},
   "outputs": [],
   "source": []
  }
 ],
 "metadata": {
  "kernelspec": {
   "display_name": "Python 3.10.4 64-bit",
   "language": "python",
   "name": "python3"
  },
  "language_info": {
   "codemirror_mode": {
    "name": "ipython",
    "version": 3
   },
   "file_extension": ".py",
   "mimetype": "text/x-python",
   "name": "python",
   "nbconvert_exporter": "python",
   "pygments_lexer": "ipython3",
   "version": "3.10.4"
  },
  "orig_nbformat": 4,
  "vscode": {
   "interpreter": {
    "hash": "36284047d25b023ef15ebc115198ea930ea38366ca853fc9d046cba36c9288f1"
   }
  }
 },
 "nbformat": 4,
 "nbformat_minor": 2
}
